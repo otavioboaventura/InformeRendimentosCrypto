{
 "cells": [
  {
   "cell_type": "markdown",
   "metadata": {},
   "source": [
    "# Antes de usar esse código\n",
    "\n",
    "Faça download do aqruivo .csv de todas as suas transações na plataforma da NovaDAX durante o ano de 2020"
   ]
  },
  {
   "cell_type": "markdown",
   "metadata": {},
   "source": [
    "# O que eu preciso para declarar o IR 2020\n",
    "\n",
    "Ficha de Bens e Direitos\n",
    "- 1) Minhas posições em 31/12/19: o quanto eu tinha de cada crypto\n",
    "- 2) Minhas posições em 31/12/20 e qual foi o preço médio de aquisição de cada crypto -> pra declarar o preço de custo em bens e direitos\n",
    "\n",
    "Ficha de lucros tributáveis\n",
    "- 3) Se eu vendi mais que 35k em um mês -> teria que ter pago darf sobre o lucro\n",
    "- 4) Identificar o mês e o valor do lucro naquele mês\n",
    "\n",
    "Ficha de lucros não tributáveis\n",
    "- Acredito que não seja necessário"
   ]
  },
  {
   "cell_type": "code",
   "execution_count": 209,
   "metadata": {},
   "outputs": [
    {
     "data": {
      "text/html": [
       "<div>\n",
       "<style scoped>\n",
       "    .dataframe tbody tr th:only-of-type {\n",
       "        vertical-align: middle;\n",
       "    }\n",
       "\n",
       "    .dataframe tbody tr th {\n",
       "        vertical-align: top;\n",
       "    }\n",
       "\n",
       "    .dataframe thead th {\n",
       "        text-align: right;\n",
       "    }\n",
       "</style>\n",
       "<table border=\"1\" class=\"dataframe\">\n",
       "  <thead>\n",
       "    <tr style=\"text-align: right;\">\n",
       "      <th></th>\n",
       "      <th>(UTC)HistoryTradesWsData</th>\n",
       "      <th>Tipo</th>\n",
       "      <th>Moeda</th>\n",
       "      <th>Valor</th>\n",
       "      <th>Saldo após</th>\n",
       "      <th>Status</th>\n",
       "    </tr>\n",
       "  </thead>\n",
       "  <tbody>\n",
       "    <tr>\n",
       "      <th>0</th>\n",
       "      <td>30/12/2020 20:16:37</td>\n",
       "      <td>Compra(ETH/BTC)</td>\n",
       "      <td>BTC</td>\n",
       "      <td>-0,0009975BTC(≈R$150.06)</td>\n",
       "      <td>+0,00540457</td>\n",
       "      <td>Sucesso</td>\n",
       "    </tr>\n",
       "    <tr>\n",
       "      <th>1</th>\n",
       "      <td>30/12/2020 20:16:37</td>\n",
       "      <td>Taxa de transação</td>\n",
       "      <td>ETH</td>\n",
       "      <td>-0,0001905ETH(≈R$0.75)</td>\n",
       "      <td>+1,16375829</td>\n",
       "      <td>Sucesso</td>\n",
       "    </tr>\n",
       "    <tr>\n",
       "      <th>2</th>\n",
       "      <td>30/12/2020 20:16:37</td>\n",
       "      <td>Compra(ETH/BTC)</td>\n",
       "      <td>ETH</td>\n",
       "      <td>+0,0381ETH(≈R$149.79)</td>\n",
       "      <td>+1,16394879</td>\n",
       "      <td>Sucesso</td>\n",
       "    </tr>\n",
       "    <tr>\n",
       "      <th>3</th>\n",
       "      <td>27/12/2020 11:24:50</td>\n",
       "      <td>Venda(DGB/USDT)</td>\n",
       "      <td>DGB</td>\n",
       "      <td>-500,00DGB(≈R$84.41)</td>\n",
       "      <td>+997,069</td>\n",
       "      <td>Sucesso</td>\n",
       "    </tr>\n",
       "    <tr>\n",
       "      <th>4</th>\n",
       "      <td>27/12/2020 11:24:50</td>\n",
       "      <td>Taxa de transação</td>\n",
       "      <td>USDT</td>\n",
       "      <td>-0,0477USDT(≈R$0.25)</td>\n",
       "      <td>+15,859461</td>\n",
       "      <td>Sucesso</td>\n",
       "    </tr>\n",
       "  </tbody>\n",
       "</table>\n",
       "</div>"
      ],
      "text/plain": [
       "  (UTC)HistoryTradesWsData                 Tipo Moeda  \\\n",
       "0      30/12/2020 20:16:37      Compra(ETH/BTC)   BTC   \n",
       "1      30/12/2020 20:16:37  Taxa de transação   ETH   \n",
       "2      30/12/2020 20:16:37      Compra(ETH/BTC)   ETH   \n",
       "3      27/12/2020 11:24:50      Venda(DGB/USDT)   DGB   \n",
       "4      27/12/2020 11:24:50  Taxa de transação  USDT   \n",
       "\n",
       "                      Valor   Saldo após   Status  \n",
       "0  -0,0009975BTC(≈R$150.06)  +0,00540457  Sucesso  \n",
       "1    -0,0001905ETH(≈R$0.75)  +1,16375829  Sucesso  \n",
       "2     +0,0381ETH(≈R$149.79)  +1,16394879  Sucesso  \n",
       "3      -500,00DGB(≈R$84.41)     +997,069  Sucesso  \n",
       "4      -0,0477USDT(≈R$0.25)   +15,859461  Sucesso  "
      ]
     },
     "execution_count": 209,
     "metadata": {},
     "output_type": "execute_result"
    }
   ],
   "source": [
    "## Importando os dados\n",
    "\n",
    "import pandas as pd\n",
    "\n",
    "transacoes = pd.read_csv('Extrato de ativos.csv') # O aquivo precisa estar na mesma pasta desse código ou o caminho completo\n",
    "transacoes.head()"
   ]
  },
  {
   "cell_type": "code",
   "execution_count": 118,
   "metadata": {},
   "outputs": [
    {
     "data": {
      "text/plain": [
       "array(['BTC', 'ETH', 'DGB', 'USDT', 'BRL', 'LTC', 'LINK', 'XMR', 'OMG',\n",
       "       'ADA', 'BTT', 'BNB', 'XRP', 'EOS', 'BSV', 'TRX', 'DASH', 'WAVES',\n",
       "       'IOTA', 'XLM'], dtype=object)"
      ]
     },
     "execution_count": 118,
     "metadata": {},
     "output_type": "execute_result"
    }
   ],
   "source": [
    "## Lista de moedas que eu negociei\n",
    "todas_moedas = transacoes['Moeda'].unique()\n",
    "todas_moedas"
   ]
  },
  {
   "cell_type": "markdown",
   "metadata": {},
   "source": [
    "# Passo 1) Posição no fim de 2019\n",
    "\n",
    "Confirmar se todas as moedas foram adquiridas em 2020 ou antes (se forem antes o resto do código não funciona)\n",
    "\n",
    "Assim, o saldo anterior da ficha de bens e direitos é R$0,00"
   ]
  },
  {
   "cell_type": "code",
   "execution_count": 55,
   "metadata": {},
   "outputs": [],
   "source": [
    "## Função auxiliar para converter valores em numero\n",
    "\n",
    "def RobustStringFormating(s,moeda):\n",
    "    \n",
    "    s_1 = s.split('(')[0].replace(moeda,'').replace('R$','')\n",
    "    s_2 = s_1.replace('.',',').split(',')\n",
    "    s_decimais = s_2[-1]\n",
    "    \n",
    "    s_unidades = ''\n",
    "    for part in s_2[:-1]:\n",
    "        s_unidades += part\n",
    "\n",
    "    return float(s_unidades+'.'+s_decimais)"
   ]
  },
  {
   "cell_type": "code",
   "execution_count": 176,
   "metadata": {},
   "outputs": [
    {
     "name": "stdout",
     "output_type": "stream",
     "text": [
      "Todas as moedas transacionadas foram compradas em 2020\n",
      "Isso significa que o \"Saldo anterior\" a ser preenchido em \"Bens e direitos\" é zero para todas as moedas\n"
     ]
    }
   ],
   "source": [
    "## Passo 1.1. Posição no fim de 2019: \n",
    "# confirmar se todas as moedas foram adquiridas em 2020 ou antes (se for antes não funciona) -> Saldo anterior 0 reais\n",
    "##\n",
    "\n",
    "## Jeito mais simples: encontrar a transações onde o saldo da moeda é igual ao valor comprado \n",
    "# isso sinaliza que o saldo em no fim de 2019 era 0\n",
    "\n",
    "index_primeira_compra = []\n",
    "\n",
    "for moeda in todas_moedas:\n",
    "    transacoes_moeda = transacoes[transacoes['Moeda']==moeda]\n",
    "\n",
    "    # Buscando a primeira transação de 2020 de cada moeda\n",
    "    for idx,row in transacoes_moeda.iloc[::-1].iterrows():\n",
    "\n",
    "        quantidade_transacao = RobustStringFormating(row['Valor'],moeda)\n",
    "        saldo = RobustStringFormating(row['Valor'],moeda)\n",
    "\n",
    "        # Se a primeira transação for identificada nesse dataset, isso significa que o saldo era 0 em 2019\n",
    "        if quantidade_transacao == saldo:\n",
    "            index_primeira_compra.append(idx)\n",
    "        \n",
    "        break\n",
    "        \n",
    "if len(todas_moedas) == len(index_primeira_compra):\n",
    "    print('Todas as moedas transacionadas foram compradas em 2020') # Subs pelo ano do dataset\n",
    "    print('Isso significa que o \"Saldo anterior\" a ser preenchido em \"Bens e direitos\" é zero para todas as moedas')\n",
    "    \n",
    "else: print('Alguma moeda foi transacionada em anos anteriores, verifique seus dados')"
   ]
  },
  {
   "cell_type": "markdown",
   "metadata": {},
   "source": [
    "# Passo 2) Posição no fim de 2020: saldo da ultima transação do ano e custo totoal de aquisição\n",
    "\n",
    "Primeiro, fiz algumas funções auxiliares, que poderia ter aplicado ao dataset inteiro logo de cada -> TO DO\n",
    "\n",
    "Depois temos a função que calcula o preço médio de aquisição, sua posição no fim de 2020 e o custo total de compra"
   ]
  },
  {
   "cell_type": "code",
   "execution_count": 60,
   "metadata": {},
   "outputs": [],
   "source": [
    "## Uma função pra converter só os valor que estão em formato de string indicando BRL\n",
    "\n",
    "def converterStrigReaisEmFloat(string_reais):\n",
    "    return float(string_reais.replace('R$','').replace(',','.'))"
   ]
  },
  {
   "cell_type": "code",
   "execution_count": 188,
   "metadata": {},
   "outputs": [
    {
     "data": {
      "text/plain": [
       "-49.997024"
      ]
     },
     "execution_count": 188,
     "metadata": {},
     "output_type": "execute_result"
    }
   ],
   "source": [
    "## Função para pegar só a quantidade de moeda\n",
    "# Eu precisei fazer essa função com ifs e não com replace/split pq eu n queri precisar de pedir como argumento da moeda\n",
    "\n",
    "import numpy as np\n",
    "\n",
    "def quantidadeDeMoedaParaFloat(string):\n",
    "    novo_string = ''\n",
    "\n",
    "    for chrt in string:\n",
    "\n",
    "        # Condição de parada\n",
    "        if chrt in str(np.arange(0,10)) or chrt in ['+','-','.',',']:\n",
    "\n",
    "            # Substituição\n",
    "            if chrt == ',':\n",
    "                novo_chrt = '.'\n",
    "\n",
    "            elif chrt == '.':\n",
    "                novo_chrt = ''\n",
    "\n",
    "            else: novo_chrt = chrt\n",
    "\n",
    "            novo_string += novo_chrt\n",
    "\n",
    "        else: break\n",
    "            \n",
    "    # Correção para um bug nos dados (valores com duas virgulas)\n",
    "    if novo_string.count('.') > 1:\n",
    "        i = novo_string[::-1].find('.')\n",
    "        novo_string = novo_string[:-i-1].replace('.','')+novo_string[-i-1:]\n",
    "\n",
    "    return float(novo_string)\n",
    "\n",
    "# Teste da função\n",
    "moeda = 'DGB'\n",
    "base = 'USDT'\n",
    "saldo_da_moeda = transacoes[transacoes['Tipo'] == 'Compra('+moeda+'/'+base+')'][::2]\n",
    "string = saldo_da_moeda['Valor'].iloc[1]\n",
    "quantidadeDeMoedaParaFloat(string)"
   ]
  },
  {
   "cell_type": "code",
   "execution_count": 136,
   "metadata": {},
   "outputs": [
    {
     "name": "stdout",
     "output_type": "stream",
     "text": [
      "-23,95USDT(≈R$135.21)\n"
     ]
    },
    {
     "data": {
      "text/plain": [
       "135.21"
      ]
     },
     "execution_count": 136,
     "metadata": {},
     "output_type": "execute_result"
    }
   ],
   "source": [
    "## Transforma uma string do formato -10,509346USDT(≈R$54.39) em um float 54.39\n",
    "\n",
    "def valorParaFloat(string):\n",
    "    nova_string = ''\n",
    "    gravar = False\n",
    "    \n",
    "    for chrt in string[:-1]:\n",
    "        \n",
    "        if gravar:\n",
    "            nova_string += chrt\n",
    "\n",
    "        if chrt == '$':\n",
    "            gravar = True\n",
    "\n",
    "    return float(nova_string)\n",
    "\n",
    "# Teste da função\n",
    "string = saldo_da_moeda['Valor'].iloc[0]\n",
    "print(string)\n",
    "valorEmBRLParaFloat(string)"
   ]
  },
  {
   "cell_type": "code",
   "execution_count": 208,
   "metadata": {},
   "outputs": [
    {
     "name": "stdout",
     "output_type": "stream",
     "text": [
      "O seu valor médio é R$24.404101455397978 em uma posição final de 3.9e-05OMG\n",
      "O seu custo de aquisição final de OMG é: R$0.0009517599567605211\n"
     ]
    },
    {
     "data": {
      "text/plain": [
       "0.0009517599567605211"
      ]
     },
     "execution_count": 208,
     "metadata": {},
     "output_type": "execute_result"
    }
   ],
   "source": [
    "## \n",
    "# Passo 1.2. Posição no fim de 2020: saldo da ultima transação do ano\n",
    "##\n",
    "\n",
    "def CustoMedio(moeda,transacoes):\n",
    "    \n",
    "    ## Ultima posição de 2020\n",
    "    transacoes_moeda = transacoes[transacoes['Moeda']==moeda]\n",
    "    ultima_posicao = RobustStringFormating(transacoes_moeda['Saldo após'].iloc[0],moeda)\n",
    "\n",
    "    ## Descobrindo o preço médio\n",
    "\n",
    "    # As compras podem ter sido feitas em: BRL, USDT, BTC e ETH\n",
    "    bases = ['BRL','USDT','BTC','ETH']\n",
    "    valores_medios_parciais = []\n",
    "\n",
    "    for base in bases:\n",
    "\n",
    "        if base == moeda: pass\n",
    "\n",
    "        else:\n",
    "\n",
    "            saldo_da_moeda = transacoes[transacoes['Tipo'] == 'Compra('+moeda+'/'+base+')'][::2]\n",
    "            saldo_da_base = transacoes[transacoes['Tipo'] == 'Compra('+moeda+'/'+base+')'][1::2]\n",
    "            # As duas precisam ter o mesmo numero de linhas ----> colocar um if pra conferir aqui\n",
    "\n",
    "            # Se houver transações daquele par\n",
    "            if len(saldo_da_moeda) != 0:\n",
    "                # Se a base for BRL, o preço médio é diretamente calculado com os dados do dataset\n",
    "                if base == 'BRL':\n",
    "\n",
    "                    saldo_da_base_float = saldo_da_base['Valor'].apply(converterStrigReaisEmFloat)\n",
    "                    saldo_da_moeda_float = saldo_da_moeda['Valor'].apply(quantidadeDeMoedaParaFloat)\n",
    "\n",
    "                    valor_medio_parcial = -np.mean(saldo_da_base_float.values/saldo_da_moeda_float.values)\n",
    "\n",
    "                else:\n",
    "                    saldo_da_base_float = saldo_da_base['Valor'].apply(valorParaFloat)\n",
    "                    saldo_da_moeda_float = saldo_da_base['Valor'].apply(quantidadeDeMoedaParaFloat)\n",
    "\n",
    "                    valor_medio_parcial = np.mean(saldo_da_base_float.values/saldo_da_moeda_float.values)\n",
    "\n",
    "\n",
    "                valores_medios_parciais.append(valor_medio_parcial)\n",
    "                \n",
    "    \n",
    "    # Preço médio\n",
    "    preco_medio = np.array(valores_medios_parciais).mean()\n",
    "    print('O seu valor médio é R$'+str(preco_medio),'em uma posição final de',str(ultima_posicao)+moeda)\n",
    "    \n",
    "    # Custo final total\n",
    "    custo_medio_moeda = preco_medio*ultima_posicao\n",
    "    print('O seu custo de aquisição final de '+moeda+' é: R$'+str(custo_medio_moeda))\n",
    "    \n",
    "    return custo_medio_moeda\n",
    "\n",
    "## Teste da função \n",
    "moeda = 'OMG'\n",
    "CustoMedio(moeda,transacoes)"
   ]
  },
  {
   "cell_type": "code",
   "execution_count": 205,
   "metadata": {},
   "outputs": [
    {
     "name": "stdout",
     "output_type": "stream",
     "text": [
      "BTC\n",
      "O seu valor médio é R$61569.51054153113 em uma posição final de 0.00540457BTC\n",
      "O seu custo de aquisição final de BTC é: R$332.75672958744286\n",
      "ETH\n",
      "O seu valor médio é R$2702.7541313983675 em uma posição final de 1.16375829ETH\n",
      "O seu custo de aquisição final de ETH é: R$3145.3525262465996\n",
      "DGB\n",
      "O seu valor médio é R$0.15605538456688944 em uma posição final de 997.069DGB\n",
      "O seu custo de aquisição final de DGB é: R$155.5979862347239\n",
      "USDT\n",
      "O seu valor médio é R$5.441445784055773 em uma posição final de 15.859461USDT\n",
      "O seu custo de aquisição final de USDT é: R$86.29839719584695\n",
      "LTC\n",
      "O seu valor médio é R$399.2546658862094 em uma posição final de 1.49311951LTC\n",
      "O seu custo de aquisição final de LTC é: R$596.1349310932308\n",
      "LINK\n",
      "O seu valor médio é R$68.86108807308253 em uma posição final de 1.00465LINK\n",
      "O seu custo de aquisição final de LINK é: R$69.18129213262236\n",
      "XMR\n",
      "O seu valor médio é R$535.0514600398881 em uma posição final de 0.4084365XMR\n",
      "O seu custo de aquisição final de XMR é: R$218.53454565858172\n",
      "OMG\n",
      "O seu valor médio é R$24.404101455397978 em uma posição final de 3.9e-05OMG\n",
      "O seu custo de aquisição final de OMG é: R$0.0009517599567605211\n",
      "ADA\n",
      "O seu valor médio é R$0.588322519113955 em uma posição final de 4e-05ADA\n",
      "O seu custo de aquisição final de ADA é: R$2.35329007645582e-05\n",
      "BTT\n",
      "O seu valor médio é R$0.001961845181709523 em uma posição final de 57075.555BTT\n",
      "O seu custo de aquisição final de BTT é: R$111.97340257014689\n",
      "BNB\n",
      "O seu valor médio é R$133.51556131661766 em uma posição final de 0.00217BNB\n",
      "O seu custo de aquisição final de BNB é: R$0.2897287680570603\n",
      "XRP\n",
      "O seu valor médio é R$1.466815919890359 em uma posição final de 0.0066XRP\n",
      "O seu custo de aquisição final de XRP é: R$0.00968098507127637\n",
      "EOS\n",
      "O seu valor médio é R$15.273161914757157 em uma posição final de 3.413EOS\n",
      "O seu custo de aquisição final de EOS é: R$52.12730161506617\n",
      "BSV\n",
      "O seu valor médio é R$1159.748319173898 em uma posição final de 9.85e-05BSV\n",
      "O seu custo de aquisição final de BSV é: R$0.11423520943862894\n",
      "TRX\n",
      "O seu valor médio é R$0.16659833429816337 em uma posição final de 0.00977TRX\n",
      "O seu custo de aquisição final de TRX é: R$0.001627665726093056\n",
      "DASH\n",
      "O seu valor médio é R$368.9538617542674 em uma posição final de 8.3e-05DASH\n",
      "O seu custo de aquisição final de DASH é: R$0.030623170525604194\n",
      "WAVES\n",
      "O seu valor médio é R$14.395693737157151 em uma posição final de 0.00835WAVES\n",
      "O seu custo de aquisição final de WAVES é: R$0.1202040427052622\n",
      "IOTA\n",
      "O seu valor médio é R$1.5479999999999998 em uma posição final de 0.0IOTA\n",
      "O seu custo de aquisição final de IOTA é: R$0.0\n",
      "XLM\n",
      "O seu valor médio é R$0.5186258274096978 em uma posição final de 4.15e-05XLM\n",
      "O seu custo de aquisição final de XLM é: R$2.1522971837502456e-05\n"
     ]
    }
   ],
   "source": [
    "## Aplicando para todas as moedas\n",
    "\n",
    "for moeda in todas_moedas:\n",
    "    \n",
    "    if moeda =='BRL': pass\n",
    "    \n",
    "    else:\n",
    "        print(moeda)\n",
    "        CustoMedio(moeda,transacoes)"
   ]
  },
  {
   "cell_type": "markdown",
   "metadata": {},
   "source": [
    "# 3) Vendas mensais"
   ]
  },
  {
   "cell_type": "code",
   "execution_count": null,
   "metadata": {},
   "outputs": [],
   "source": []
  }
 ],
 "metadata": {
  "kernelspec": {
   "display_name": "Python 3",
   "language": "python",
   "name": "python3"
  }
 },
 "nbformat": 4,
 "nbformat_minor": 4
}
