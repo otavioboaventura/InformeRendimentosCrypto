{
 "cells": [
  {
   "cell_type": "code",
   "execution_count": 18,
   "metadata": {},
   "outputs": [
    {
     "data": {
      "text/html": [
       "<div>\n",
       "<style scoped>\n",
       "    .dataframe tbody tr th:only-of-type {\n",
       "        vertical-align: middle;\n",
       "    }\n",
       "\n",
       "    .dataframe tbody tr th {\n",
       "        vertical-align: top;\n",
       "    }\n",
       "\n",
       "    .dataframe thead th {\n",
       "        text-align: right;\n",
       "    }\n",
       "</style>\n",
       "<table border=\"1\" class=\"dataframe\">\n",
       "  <thead>\n",
       "    <tr style=\"text-align: right;\">\n",
       "      <th></th>\n",
       "      <th>Tipo</th>\n",
       "      <th>DATA COM</th>\n",
       "      <th>Pagamento</th>\n",
       "      <th>Valor</th>\n",
       "    </tr>\n",
       "  </thead>\n",
       "  <tbody>\n",
       "    <tr>\n",
       "      <th>0</th>\n",
       "      <td>Dividendo</td>\n",
       "      <td>17/12/2021</td>\n",
       "      <td>30/12/2021</td>\n",
       "      <td>0.1334</td>\n",
       "    </tr>\n",
       "    <tr>\n",
       "      <th>1</th>\n",
       "      <td>JCP</td>\n",
       "      <td>17/12/2021</td>\n",
       "      <td>30/12/2021</td>\n",
       "      <td>0.4702</td>\n",
       "    </tr>\n",
       "    <tr>\n",
       "      <th>2</th>\n",
       "      <td>Dividendo</td>\n",
       "      <td>13/01/2021</td>\n",
       "      <td>28/01/2021</td>\n",
       "      <td>0.0767</td>\n",
       "    </tr>\n",
       "    <tr>\n",
       "      <th>3</th>\n",
       "      <td>JCP</td>\n",
       "      <td>17/12/2020</td>\n",
       "      <td>30/12/2020</td>\n",
       "      <td>0.4137</td>\n",
       "    </tr>\n",
       "    <tr>\n",
       "      <th>4</th>\n",
       "      <td>JCP</td>\n",
       "      <td>19/12/2019</td>\n",
       "      <td>30/12/2019</td>\n",
       "      <td>0.4906</td>\n",
       "    </tr>\n",
       "    <tr>\n",
       "      <th>5</th>\n",
       "      <td>JCP</td>\n",
       "      <td>18/12/2018</td>\n",
       "      <td>28/12/2018</td>\n",
       "      <td>0.3200</td>\n",
       "    </tr>\n",
       "    <tr>\n",
       "      <th>6</th>\n",
       "      <td>Dividendo</td>\n",
       "      <td>15/06/2018</td>\n",
       "      <td>30/07/2018</td>\n",
       "      <td>0.1600</td>\n",
       "    </tr>\n",
       "    <tr>\n",
       "      <th>7</th>\n",
       "      <td>Dividendo</td>\n",
       "      <td>31/01/2018</td>\n",
       "      <td>22/02/2018</td>\n",
       "      <td>0.0700</td>\n",
       "    </tr>\n",
       "    <tr>\n",
       "      <th>8</th>\n",
       "      <td>JCP</td>\n",
       "      <td>18/12/2017</td>\n",
       "      <td>28/12/2017</td>\n",
       "      <td>0.3100</td>\n",
       "    </tr>\n",
       "    <tr>\n",
       "      <th>9</th>\n",
       "      <td>Dividendo</td>\n",
       "      <td>23/06/2017</td>\n",
       "      <td>17/07/2017</td>\n",
       "      <td>0.1600</td>\n",
       "    </tr>\n",
       "  </tbody>\n",
       "</table>\n",
       "</div>"
      ],
      "text/plain": [
       "        Tipo    DATA COM   Pagamento   Valor\n",
       "0  Dividendo  17/12/2021  30/12/2021  0.1334\n",
       "1        JCP  17/12/2021  30/12/2021  0.4702\n",
       "2  Dividendo  13/01/2021  28/01/2021  0.0767\n",
       "3        JCP  17/12/2020  30/12/2020  0.4137\n",
       "4        JCP  19/12/2019  30/12/2019  0.4906\n",
       "5        JCP  18/12/2018  28/12/2018  0.3200\n",
       "6  Dividendo  15/06/2018  30/07/2018  0.1600\n",
       "7  Dividendo  31/01/2018  22/02/2018  0.0700\n",
       "8        JCP  18/12/2017  28/12/2017  0.3100\n",
       "9  Dividendo  23/06/2017  17/07/2017  0.1600"
      ]
     },
     "execution_count": 18,
     "metadata": {},
     "output_type": "execute_result"
    }
   ],
   "source": [
    "# Bibliotecas necessárias para pegar as informações da wikipedia\n",
    "from bs4 import BeautifulSoup\n",
    "import requests\n",
    "import pandas as pd\n",
    "\n",
    "# Página com os dividendos\n",
    "stock_url = 'https://statusinvest.com.br/acoes/abev3'\n",
    "\n",
    "# Fazendo o resquest da página\n",
    "response = requests.get(stock_url)\n",
    "soup = BeautifulSoup(response.text,'html.parser')\n",
    "\n",
    "# Extraindo apenas a tabela\n",
    "tabela_html = soup.find('table')\n",
    "\n",
    "# Transformando a tabela em um data frame\n",
    "tabela = pd.read_html(str(tabela_html),decimal=',', thousands='.')\n",
    "dados_dividendos = tabela[0]\n",
    "\n",
    "# Mostrando as 10 primeiras linhas da tabela\n",
    "dados_dividendos.head(10)"
   ]
  },
  {
   "cell_type": "code",
   "execution_count": 27,
   "metadata": {},
   "outputs": [
    {
     "data": {
      "text/html": [
       "<div>\n",
       "<style scoped>\n",
       "    .dataframe tbody tr th:only-of-type {\n",
       "        vertical-align: middle;\n",
       "    }\n",
       "\n",
       "    .dataframe tbody tr th {\n",
       "        vertical-align: top;\n",
       "    }\n",
       "\n",
       "    .dataframe thead th {\n",
       "        text-align: right;\n",
       "    }\n",
       "</style>\n",
       "<table border=\"1\" class=\"dataframe\">\n",
       "  <thead>\n",
       "    <tr style=\"text-align: right;\">\n",
       "      <th></th>\n",
       "      <th>Tipo</th>\n",
       "      <th>DATA COM</th>\n",
       "      <th>Pagamento</th>\n",
       "      <th>Valor</th>\n",
       "    </tr>\n",
       "  </thead>\n",
       "  <tbody>\n",
       "    <tr>\n",
       "      <th>2</th>\n",
       "      <td>JCP</td>\n",
       "      <td>2021-09-30</td>\n",
       "      <td>2021-11-30</td>\n",
       "      <td>0.09074606</td>\n",
       "    </tr>\n",
       "    <tr>\n",
       "      <th>3</th>\n",
       "      <td>Dividendo</td>\n",
       "      <td>2021-09-30</td>\n",
       "      <td>2021-11-30</td>\n",
       "      <td>0.45328533</td>\n",
       "    </tr>\n",
       "  </tbody>\n",
       "</table>\n",
       "</div>"
      ],
      "text/plain": [
       "        Tipo   DATA COM  Pagamento       Valor\n",
       "2        JCP 2021-09-30 2021-11-30  0.09074606\n",
       "3  Dividendo 2021-09-30 2021-11-30  0.45328533"
      ]
     },
     "execution_count": 27,
     "metadata": {},
     "output_type": "execute_result"
    }
   ],
   "source": [
    "# Tranformando em função\n",
    "from bs4 import BeautifulSoup\n",
    "import requests\n",
    "import pandas as pd\n",
    "\n",
    "# Página com os dividendos\n",
    "def getDividendData(ticker,init_date,end_date):\n",
    "    stock_url = 'https://statusinvest.com.br/acoes/'+ticker\n",
    "\n",
    "    # Fazendo o resquest da página\n",
    "    response = requests.get(stock_url)\n",
    "    soup = BeautifulSoup(response.text,'html.parser')\n",
    "\n",
    "    # Extraindo apenas a tabela\n",
    "    tabela_html = soup.find('table')\n",
    "\n",
    "    # Transformando a tabela em um data frame\n",
    "    tabela = pd.read_html(str(tabela_html),decimal=',', thousands='.')\n",
    "    dados_dividendos = tabela[0]\n",
    "    \n",
    "    # Convertendo para data\n",
    "    dados_dividendos['Pagamento'] = pd.to_datetime(dados_dividendos['Pagamento'],format='%d/%m/%Y',errors='coerce')\n",
    "    dados_dividendos['DATA COM'] = pd.to_datetime(dados_dividendos['DATA COM'],format='%d/%m/%Y',errors='coerce')\n",
    "\n",
    "    # Filtrando no período desejado\n",
    "    dados_dividendos_ano = dados_dividendos[(dados_dividendos['DATA COM'] > init_date) \n",
    "                                            & (dados_dividendos['DATA COM'] < end_date)]\n",
    "    \n",
    "    return dados_dividendos_ano[dados_dividendos_ano['Pagamento'].notna()]\n",
    "\n",
    "# Teste\n",
    "ticker = 'cple6'\n",
    "dados_dividendos = getDividendData(ticker,'2021-05-21','2022-01-01')\n",
    "dados_dividendos"
   ]
  },
  {
   "cell_type": "code",
   "execution_count": 28,
   "metadata": {},
   "outputs": [
    {
     "name": "stdout",
     "output_type": "stream",
     "text": [
      "Dividendos recebidos R$0,45\n"
     ]
    }
   ],
   "source": [
    "def formatarDadosDividendos(dados_dividendos,numero_de_acoes,ticker):\n",
    "\n",
    "    # Dividendos -> Para ser declarado na ficha 'Rendimentos Isentos e Não Tributáveis”,\n",
    "    # no campo “09 – Lucros e dividendos recebidos”.\n",
    "    \n",
    "    dados_dividendos_separados = dados_dividendos[dados_dividendos.Tipo == 'Dividendo']\n",
    "\n",
    "    dividendos_total_no_periodo = dados_dividendos_separados.Valor.astype(float).sum()\n",
    "\n",
    "    print('Dividendos recebidos R$'+\n",
    "                      str(round(dividendos_total_no_periodo*numero_de_acoes,2)).replace('.',','))\n",
    "\n",
    "#Teste\n",
    "numero_de_acoes = 1\n",
    "formatarDadosDividendos(dados_dividendos,numero_de_acoes,ticker)"
   ]
  },
  {
   "cell_type": "code",
   "execution_count": 29,
   "metadata": {},
   "outputs": [
    {
     "name": "stdout",
     "output_type": "stream",
     "text": [
      "Juros sob capital próprio recebidos: R$0,09\n"
     ]
    }
   ],
   "source": [
    "def formatarDadosJCP(dados_dividendos,numero_de_acoes,ticker):\n",
    "\n",
    "    # JCP para serem declarados em “Rendimentos Sujeitos à Tributação Exclusiva/Definitiva”,\n",
    "    # na opção “10 – Juros sobre capital próprio”.\n",
    "    \n",
    "    dados_jcp = dados_dividendos[dados_dividendos.Tipo == 'JCP']\n",
    "\n",
    "    jcp_total_no_periodo = dados_jcp.Valor.astype(float).sum()\n",
    "\n",
    "    print('Juros sob capital próprio recebidos: R$'+\n",
    "                      str(round(jcp_total_no_periodo*numero_de_acoes,2)).replace('.',','))\n",
    "\n",
    "#Teste\n",
    "numero_de_acoes = 1\n",
    "formatarDadosJCP(dados_dividendos,numero_de_acoes,ticker)"
   ]
  },
  {
   "cell_type": "markdown",
   "metadata": {},
   "source": [
    "# Pegando dados adicionais da empresa"
   ]
  },
  {
   "cell_type": "code",
   "execution_count": 30,
   "metadata": {
    "scrolled": true
   },
   "outputs": [
    {
     "data": {
      "text/html": [
       "<div>\n",
       "<style scoped>\n",
       "    .dataframe tbody tr th:only-of-type {\n",
       "        vertical-align: middle;\n",
       "    }\n",
       "\n",
       "    .dataframe tbody tr th {\n",
       "        vertical-align: top;\n",
       "    }\n",
       "\n",
       "    .dataframe thead th {\n",
       "        text-align: right;\n",
       "    }\n",
       "</style>\n",
       "<table border=\"1\" class=\"dataframe\">\n",
       "  <thead>\n",
       "    <tr style=\"text-align: right;\">\n",
       "      <th></th>\n",
       "      <th>Ticker</th>\n",
       "      <th>CNPJ</th>\n",
       "      <th>Razão Social</th>\n",
       "    </tr>\n",
       "  </thead>\n",
       "  <tbody>\n",
       "    <tr>\n",
       "      <th>0</th>\n",
       "      <td>aalr3</td>\n",
       "      <td>42.771.949/0001-35</td>\n",
       "      <td>CENTRO DE IMAGEM DIAGNÓSTICOS S.A.</td>\n",
       "    </tr>\n",
       "    <tr>\n",
       "      <th>1</th>\n",
       "      <td>abcb4</td>\n",
       "      <td>28.195.667/0001-06</td>\n",
       "      <td>BANCO ABC BRASIL S/A</td>\n",
       "    </tr>\n",
       "    <tr>\n",
       "      <th>2</th>\n",
       "      <td>abev3</td>\n",
       "      <td>07.526.557/0001-00</td>\n",
       "      <td>AMBEV S.A.</td>\n",
       "    </tr>\n",
       "    <tr>\n",
       "      <th>3</th>\n",
       "      <td>aeri3</td>\n",
       "      <td>12.528.708/0001-07</td>\n",
       "      <td>Aeris Indústria e Com. de Equip. para Geração ...</td>\n",
       "    </tr>\n",
       "    <tr>\n",
       "      <th>4</th>\n",
       "      <td>aesb3</td>\n",
       "      <td>37.663.076/0001-07</td>\n",
       "      <td>AES BRASIL ENERGIA S.A.</td>\n",
       "    </tr>\n",
       "    <tr>\n",
       "      <th>5</th>\n",
       "      <td>aflt3</td>\n",
       "      <td>10.338.320/0001-00</td>\n",
       "      <td>AFLUENTE TRANSMISSÃO DE ENERGIA ELETRICA S/A</td>\n",
       "    </tr>\n",
       "    <tr>\n",
       "      <th>6</th>\n",
       "      <td>agro3</td>\n",
       "      <td>07.628.528/0001-59</td>\n",
       "      <td>BRASILAGRO CIA BRAS DE PROP AGRICOLAS</td>\n",
       "    </tr>\n",
       "    <tr>\n",
       "      <th>7</th>\n",
       "      <td>agxy3</td>\n",
       "      <td>21.240.146/0001-84</td>\n",
       "      <td>AGROGALAXY PARTICIPACOES S.A.</td>\n",
       "    </tr>\n",
       "    <tr>\n",
       "      <th>8</th>\n",
       "      <td>aheb3</td>\n",
       "      <td>62.002.886/0001-60</td>\n",
       "      <td>SÃO PAULO TURISMO S. A.</td>\n",
       "    </tr>\n",
       "    <tr>\n",
       "      <th>9</th>\n",
       "      <td>aheb5</td>\n",
       "      <td>62.002.886/0001-60</td>\n",
       "      <td>SÃO PAULO TURISMO S. A.</td>\n",
       "    </tr>\n",
       "  </tbody>\n",
       "</table>\n",
       "</div>"
      ],
      "text/plain": [
       "  Ticker                CNPJ  \\\n",
       "0  aalr3  42.771.949/0001-35   \n",
       "1  abcb4  28.195.667/0001-06   \n",
       "2  abev3  07.526.557/0001-00   \n",
       "3  aeri3  12.528.708/0001-07   \n",
       "4  aesb3  37.663.076/0001-07   \n",
       "5  aflt3  10.338.320/0001-00   \n",
       "6  agro3  07.628.528/0001-59   \n",
       "7  agxy3  21.240.146/0001-84   \n",
       "8  aheb3  62.002.886/0001-60   \n",
       "9  aheb5  62.002.886/0001-60   \n",
       "\n",
       "                                        Razão Social  \n",
       "0                 CENTRO DE IMAGEM DIAGNÓSTICOS S.A.  \n",
       "1                               BANCO ABC BRASIL S/A  \n",
       "2                                         AMBEV S.A.  \n",
       "3  Aeris Indústria e Com. de Equip. para Geração ...  \n",
       "4                            AES BRASIL ENERGIA S.A.  \n",
       "5       AFLUENTE TRANSMISSÃO DE ENERGIA ELETRICA S/A  \n",
       "6              BRASILAGRO CIA BRAS DE PROP AGRICOLAS  \n",
       "7                      AGROGALAXY PARTICIPACOES S.A.  \n",
       "8                            SÃO PAULO TURISMO S. A.  \n",
       "9                            SÃO PAULO TURISMO S. A.  "
      ]
     },
     "execution_count": 30,
     "metadata": {},
     "output_type": "execute_result"
    }
   ],
   "source": [
    "# Página com os dados da empresa\n",
    "dados_url = 'https://orealvalor.com.br/blog/cnpj-de-todas-as-acoes-da-b3/'\n",
    "\n",
    "# Fazendo o resquest da página\n",
    "response = requests.get(dados_url)\n",
    "soup = BeautifulSoup(response.text,'html.parser')\n",
    "\n",
    "# Extraindo apenas a tabela\n",
    "tabela_html = soup.find('table')\n",
    "\n",
    "# Transformando a tabela em um data frame\n",
    "tabela = pd.read_html(str(tabela_html),decimal=',', thousands='.')\n",
    "dados = tabela[0]\n",
    "\n",
    "# Convertendo os ticker para minusculo\n",
    "dados['Ticker'] = dados['Ticker'].str.lower()\n",
    "\n",
    "# Mostrando as 10 primeiras linhas da tabela\n",
    "dados.head(10)"
   ]
  },
  {
   "cell_type": "code",
   "execution_count": 31,
   "metadata": {},
   "outputs": [],
   "source": [
    "def getCompanyData(ticker):\n",
    "\n",
    "    # Página com os dados da empresa\n",
    "    dados_url = 'https://orealvalor.com.br/blog/cnpj-de-todas-as-acoes-da-b3/'\n",
    "\n",
    "    # Fazendo o resquest da página\n",
    "    response = requests.get(dados_url)\n",
    "    soup = BeautifulSoup(response.text,'html.parser')\n",
    "\n",
    "    # Extraindo apenas a tabela\n",
    "    tabela_html = soup.find('table')\n",
    "\n",
    "    # Transformando a tabela em um data frame\n",
    "    tabela = pd.read_html(str(tabela_html),decimal=',', thousands='.')\n",
    "    dados = tabela[0]\n",
    "\n",
    "    # Convertendo os ticker para minusculo\n",
    "    dados['Ticker'] = dados['Ticker'].str.lower()\n",
    "    \n",
    "    # Filtrando pelo ticker\n",
    "    dados_do_ticker = dados[dados['Ticker'] == ticker]\n",
    "\n",
    "    # Imprimindo os dados que preciso\n",
    "    print('CNPJ: '+ dados_do_ticker.iloc[0].at['CNPJ'])\n",
    "    print('Nome: ' + dados_do_ticker.iloc[0].at['Razão Social'])"
   ]
  },
  {
   "cell_type": "code",
   "execution_count": 32,
   "metadata": {},
   "outputs": [
    {
     "name": "stdout",
     "output_type": "stream",
     "text": [
      "CNPJ: 09.346.601/0001-25\n",
      "Nome: B3 S.A.\n",
      "Dividendos recebidos R$13,11\n",
      "Juros sob capital próprio recebidos: R$3,92\n"
     ]
    }
   ],
   "source": [
    "## Fazendo agora uma função que me retorne tudo junto\n",
    "\n",
    "# Pegar os dados\n",
    "def declaracao(dados_acao):\n",
    "    dados_dividendos = getDividendData(dados_acao['ticker'],dados_acao['data_compra'],dados_acao['data_fim'])\n",
    "    \n",
    "    # Dados da empresa\n",
    "    getCompanyData(dados_acao['ticker'])\n",
    "    \n",
    "    formatarDadosDividendos(dados_dividendos,dados_acao['numero_de_acoes'],dados_acao['ticker'])\n",
    "    formatarDadosJCP(dados_dividendos,dados_acao['numero_de_acoes'],dados_acao['ticker'])\n",
    "    \n",
    "\n",
    "# dados_acao = {'ticker':,'data_compra',]\n",
    "dados_acao = {'ticker':'b3sa3',\n",
    "              'data_compra':'2021-05-21',\n",
    "              'data_fim': '2022-01-01',\n",
    "              'numero_de_acoes': 28}\n",
    "\n",
    "declaracao(dados_acao)\n"
   ]
  },
  {
   "cell_type": "code",
   "execution_count": 87,
   "metadata": {},
   "outputs": [
    {
     "name": "stdout",
     "output_type": "stream",
     "text": [
      "CNPJ: 76.483.817/0001-20\n",
      "Nome: COMPANHIA PARANAENSE DE ENERGIA\n",
      "Dividendos recebidos R$37,17\n",
      "Juros sob capital próprio recebidos: R$7,44\n"
     ]
    }
   ],
   "source": [
    "dados_acao = {'ticker':'cple6',\n",
    "              'data_compra':'2021-05-21',\n",
    "              'data_fim': '2022-01-01',\n",
    "              'numero_de_acoes': 82}\n",
    "\n",
    "declaracao(dados_acao)"
   ]
  },
  {
   "cell_type": "code",
   "execution_count": 88,
   "metadata": {},
   "outputs": [
    {
     "name": "stdout",
     "output_type": "stream",
     "text": [
      "CNPJ: 07.628.528/0001-59\n",
      "Nome: BRASILAGRO CIA BRAS DE PROP AGRICOLAS\n",
      "Dividendos recebidos R$41,94\n",
      "Juros sob capital próprio recebidos: R$0,0\n"
     ]
    }
   ],
   "source": [
    "dados_acao = {'ticker':'agro3',\n",
    "              'data_compra':'2021-05-21',\n",
    "              'data_fim': '2022-01-01',\n",
    "              'numero_de_acoes': 16}\n",
    "\n",
    "declaracao(dados_acao)"
   ]
  },
  {
   "cell_type": "code",
   "execution_count": 89,
   "metadata": {},
   "outputs": [
    {
     "name": "stdout",
     "output_type": "stream",
     "text": [
      "CNPJ: 07.859.971/0001-30\n",
      "Nome: TRANSMISSORA ALIANÇA DE ENERGIA ELÉTRICA S.A.\n",
      "Dividendos recebidos R$11,18\n",
      "Juros sob capital próprio recebidos: R$7,04\n"
     ]
    }
   ],
   "source": [
    "dados_acao = {'ticker':'taee11',\n",
    "              'data_compra':'2021-05-21',\n",
    "              'data_fim': '2022-01-01',\n",
    "              'numero_de_acoes': 12}\n",
    "\n",
    "declaracao(dados_acao)"
   ]
  },
  {
   "cell_type": "code",
   "execution_count": 90,
   "metadata": {},
   "outputs": [
    {
     "name": "stdout",
     "output_type": "stream",
     "text": [
      "CNPJ: 07.526.557/0001-00\n",
      "Nome: AMBEV S.A.\n",
      "Dividendos recebidos R$4,54\n",
      "Juros sob capital próprio recebidos: R$15,99\n"
     ]
    }
   ],
   "source": [
    "dados_acao = {'ticker':'abev3',\n",
    "              'data_compra':'2021-05-21',\n",
    "              'data_fim': '2022-01-01',\n",
    "              'numero_de_acoes': 34}\n",
    "\n",
    "declaracao(dados_acao)"
   ]
  },
  {
   "cell_type": "code",
   "execution_count": null,
   "metadata": {},
   "outputs": [],
   "source": []
  },
  {
   "cell_type": "markdown",
   "metadata": {},
   "source": [
    "# Testes"
   ]
  },
  {
   "cell_type": "code",
   "execution_count": 28,
   "metadata": {},
   "outputs": [
    {
     "data": {
      "text/html": [
       "<div>\n",
       "<style scoped>\n",
       "    .dataframe tbody tr th:only-of-type {\n",
       "        vertical-align: middle;\n",
       "    }\n",
       "\n",
       "    .dataframe tbody tr th {\n",
       "        vertical-align: top;\n",
       "    }\n",
       "\n",
       "    .dataframe thead th {\n",
       "        text-align: right;\n",
       "    }\n",
       "</style>\n",
       "<table border=\"1\" class=\"dataframe\">\n",
       "  <thead>\n",
       "    <tr style=\"text-align: right;\">\n",
       "      <th></th>\n",
       "      <th>Tipo</th>\n",
       "      <th>DATA COM</th>\n",
       "      <th>Pagamento</th>\n",
       "      <th>Valor</th>\n",
       "    </tr>\n",
       "  </thead>\n",
       "  <tbody>\n",
       "    <tr>\n",
       "      <th>0</th>\n",
       "      <td>Dividendo</td>\n",
       "      <td>2021-12-17</td>\n",
       "      <td>2021-12-30</td>\n",
       "      <td>0.1334</td>\n",
       "    </tr>\n",
       "    <tr>\n",
       "      <th>1</th>\n",
       "      <td>JCP</td>\n",
       "      <td>2021-12-17</td>\n",
       "      <td>2021-12-30</td>\n",
       "      <td>0.4702</td>\n",
       "    </tr>\n",
       "  </tbody>\n",
       "</table>\n",
       "</div>"
      ],
      "text/plain": [
       "        Tipo   DATA COM  Pagamento   Valor\n",
       "0  Dividendo 2021-12-17 2021-12-30  0.1334\n",
       "1        JCP 2021-12-17 2021-12-30  0.4702"
      ]
     },
     "execution_count": 28,
     "metadata": {},
     "output_type": "execute_result"
    }
   ],
   "source": [
    "getDividendData(dados_acao['ticker'],dados_acao['data_compra'],dados_acao['data_fim'])"
   ]
  },
  {
   "cell_type": "code",
   "execution_count": 68,
   "metadata": {},
   "outputs": [
    {
     "data": {
      "text/html": [
       "<div>\n",
       "<style scoped>\n",
       "    .dataframe tbody tr th:only-of-type {\n",
       "        vertical-align: middle;\n",
       "    }\n",
       "\n",
       "    .dataframe tbody tr th {\n",
       "        vertical-align: top;\n",
       "    }\n",
       "\n",
       "    .dataframe thead th {\n",
       "        text-align: right;\n",
       "    }\n",
       "</style>\n",
       "<table border=\"1\" class=\"dataframe\">\n",
       "  <thead>\n",
       "    <tr style=\"text-align: right;\">\n",
       "      <th></th>\n",
       "      <th>Tipo</th>\n",
       "      <th>DATA COM</th>\n",
       "      <th>Pagamento</th>\n",
       "      <th>Valor</th>\n",
       "    </tr>\n",
       "  </thead>\n",
       "  <tbody>\n",
       "    <tr>\n",
       "      <th>0</th>\n",
       "      <td>Dividendo</td>\n",
       "      <td>07/03/2022</td>\n",
       "      <td>16/03/2022</td>\n",
       "      <td>0.20</td>\n",
       "    </tr>\n",
       "    <tr>\n",
       "      <th>1</th>\n",
       "      <td>Dividendo</td>\n",
       "      <td>05/11/2021</td>\n",
       "      <td>16/11/2021</td>\n",
       "      <td>1.42</td>\n",
       "    </tr>\n",
       "    <tr>\n",
       "      <th>2</th>\n",
       "      <td>JCP</td>\n",
       "      <td>05/11/2021</td>\n",
       "      <td>16/11/2021</td>\n",
       "      <td>0.20</td>\n",
       "    </tr>\n",
       "    <tr>\n",
       "      <th>3</th>\n",
       "      <td>JCP</td>\n",
       "      <td>27/09/2021</td>\n",
       "      <td>16/11/2021</td>\n",
       "      <td>0.38</td>\n",
       "    </tr>\n",
       "    <tr>\n",
       "      <th>4</th>\n",
       "      <td>Dividendo</td>\n",
       "      <td>16/08/2021</td>\n",
       "      <td>26/08/2021</td>\n",
       "      <td>0.54</td>\n",
       "    </tr>\n",
       "    <tr>\n",
       "      <th>5</th>\n",
       "      <td>Dividendo</td>\n",
       "      <td>14/05/2021</td>\n",
       "      <td>26/05/2021</td>\n",
       "      <td>0.40</td>\n",
       "    </tr>\n",
       "    <tr>\n",
       "      <th>6</th>\n",
       "      <td>JCP</td>\n",
       "      <td>11/03/2021</td>\n",
       "      <td>25/03/2021</td>\n",
       "      <td>0.13</td>\n",
       "    </tr>\n",
       "    <tr>\n",
       "      <th>7</th>\n",
       "      <td>JCP</td>\n",
       "      <td>21/12/2020</td>\n",
       "      <td>25/03/2021</td>\n",
       "      <td>0.17</td>\n",
       "    </tr>\n",
       "    <tr>\n",
       "      <th>8</th>\n",
       "      <td>Dividendo</td>\n",
       "      <td>06/11/2020</td>\n",
       "      <td>18/11/2020</td>\n",
       "      <td>0.12</td>\n",
       "    </tr>\n",
       "    <tr>\n",
       "      <th>9</th>\n",
       "      <td>Dividendo</td>\n",
       "      <td>28/02/2020</td>\n",
       "      <td>11/03/2020</td>\n",
       "      <td>0.03</td>\n",
       "    </tr>\n",
       "    <tr>\n",
       "      <th>10</th>\n",
       "      <td>Dividendo</td>\n",
       "      <td>11/11/2019</td>\n",
       "      <td>25/11/2019</td>\n",
       "      <td>0.04</td>\n",
       "    </tr>\n",
       "    <tr>\n",
       "      <th>11</th>\n",
       "      <td>Dividendo</td>\n",
       "      <td>16/08/2019</td>\n",
       "      <td>28/09/2019</td>\n",
       "      <td>0.07</td>\n",
       "    </tr>\n",
       "  </tbody>\n",
       "</table>\n",
       "</div>"
      ],
      "text/plain": [
       "         Tipo    DATA COM   Pagamento  Valor\n",
       "0   Dividendo  07/03/2022  16/03/2022   0.20\n",
       "1   Dividendo  05/11/2021  16/11/2021   1.42\n",
       "2         JCP  05/11/2021  16/11/2021   0.20\n",
       "3         JCP  27/09/2021  16/11/2021   0.38\n",
       "4   Dividendo  16/08/2021  26/08/2021   0.54\n",
       "5   Dividendo  14/05/2021  26/05/2021   0.40\n",
       "6         JCP  11/03/2021  25/03/2021   0.13\n",
       "7         JCP  21/12/2020  25/03/2021   0.17\n",
       "8   Dividendo  06/11/2020  18/11/2020   0.12\n",
       "9   Dividendo  28/02/2020  11/03/2020   0.03\n",
       "10  Dividendo  11/11/2019  25/11/2019   0.04\n",
       "11  Dividendo  16/08/2019  28/09/2019   0.07"
      ]
     },
     "execution_count": 68,
     "metadata": {},
     "output_type": "execute_result"
    }
   ],
   "source": [
    "# Bibliotecas necessárias para pegar as informações da wikipedia\n",
    "from bs4 import BeautifulSoup\n",
    "import requests\n",
    "import pandas as pd\n",
    "\n",
    "\n",
    "def checkDividends(ticker):\n",
    "\n",
    "    # Página da wiki com os dados de opopulação de todos os munícipios do Brasil\n",
    "    stock_url = 'https://statusinvest.com.br/acoes/' + ticker.lower()\n",
    "\n",
    "    # Fazendo o resquest da página\n",
    "    response = requests.get(stock_url)\n",
    "    soup = BeautifulSoup(response.text,'html.parser')\n",
    "\n",
    "    # Extraindo apenas a tabela\n",
    "    tabela_html = soup.find('table')\n",
    "\n",
    "    # Transformando a tabela em um data frame\n",
    "    tabela = pd.read_html(str(tabela_html),decimal=',', thousands='.')\n",
    "    dados_dividendos = tabela[0]\n",
    "\n",
    "    return(dados_dividendos)\n",
    "\n",
    "checkDividends('GGBR3')"
   ]
  },
  {
   "cell_type": "code",
   "execution_count": 9,
   "metadata": {},
   "outputs": [
    {
     "name": "stdout",
     "output_type": "stream",
     "text": [
      "CNPJ: 09.346.601/0001-25\n",
      "Nome: B3 S.A.\n"
     ]
    }
   ],
   "source": [
    "# Filtrando pelo ticker\n",
    "dados_do_ticker = dados[dados['Ticker'] == ticker]\n",
    "\n",
    "# Imprimindo os dados que preciso\n",
    "print('CNPJ: '+ dados_do_ticker.iloc[0].at['CNPJ'])\n",
    "print('Nome: ' + dados_do_ticker.iloc[0].at['Razão Social'])"
   ]
  },
  {
   "cell_type": "code",
   "execution_count": 74,
   "metadata": {},
   "outputs": [
    {
     "data": {
      "text/plain": [
       "'76.483.817/0001-20'"
      ]
     },
     "execution_count": 74,
     "metadata": {},
     "output_type": "execute_result"
    }
   ],
   "source": []
  },
  {
   "cell_type": "code",
   "execution_count": 72,
   "metadata": {},
   "outputs": [
    {
     "ename": "AttributeError",
     "evalue": "'Int64Index' object has no attribute 'int'",
     "output_type": "error",
     "traceback": [
      "\u001b[1;31m---------------------------------------------------------------------------\u001b[0m",
      "\u001b[1;31mAttributeError\u001b[0m                            Traceback (most recent call last)",
      "\u001b[1;32m<ipython-input-72-fe5eda6a0264>\u001b[0m in \u001b[0;36m<module>\u001b[1;34m\u001b[0m\n\u001b[1;32m----> 1\u001b[1;33m \u001b[0mdados_do_ticker\u001b[0m\u001b[1;33m.\u001b[0m\u001b[0mindex\u001b[0m\u001b[1;33m.\u001b[0m\u001b[0mint\u001b[0m\u001b[1;33m(\u001b[0m\u001b[1;33m)\u001b[0m\u001b[1;33m\u001b[0m\u001b[1;33m\u001b[0m\u001b[0m\n\u001b[0m",
      "\u001b[1;31mAttributeError\u001b[0m: 'Int64Index' object has no attribute 'int'"
     ]
    }
   ],
   "source": []
  },
  {
   "cell_type": "code",
   "execution_count": null,
   "metadata": {},
   "outputs": [],
   "source": []
  }
 ],
 "metadata": {
  "kernelspec": {
   "display_name": "Python 3",
   "language": "python",
   "name": "python3"
  },
  "language_info": {
   "codemirror_mode": {
    "name": "ipython",
    "version": 3
   },
   "file_extension": ".py",
   "mimetype": "text/x-python",
   "name": "python",
   "nbconvert_exporter": "python",
   "pygments_lexer": "ipython3",
   "version": "3.8.3"
  }
 },
 "nbformat": 4,
 "nbformat_minor": 4
}
